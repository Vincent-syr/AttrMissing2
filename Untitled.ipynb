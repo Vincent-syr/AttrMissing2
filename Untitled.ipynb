{
 "cells": [
  {
   "cell_type": "markdown",
   "metadata": {},
   "source": [
    "# stage 1: pre_train"
   ]
  },
  {
   "cell_type": "code",
   "execution_count": 7,
   "metadata": {
    "ExecuteTime": {
     "end_time": "2020-08-25T11:58:54.872153Z",
     "start_time": "2020-08-25T11:58:54.643283Z"
    }
   },
   "outputs": [
    {
     "name": "stdout",
     "output_type": "stream",
     "text": [
      "The autoreload extension is already loaded. To reload it, use:\n",
      "  %reload_ext autoreload\n"
     ]
    }
   ],
   "source": [
    "import torch\n",
    "import numpy as np\n",
    "from torch.autograd import Variable\n",
    "import torch.nn as nn\n",
    "import torch.optim\n",
    "import json\n",
    "import torch.utils.data.sampler\n",
    "import os\n",
    "import glob\n",
    "import random\n",
    "import time\n",
    "import h5py\n",
    "import argparse\n",
    "\n",
    "import configs\n",
    "import backbone\n",
    "from data.datamgr import TransformLoader\n",
    "from data.dataset import SetDataset\n",
    "import data.feature_loader as feat_loader\n",
    "from methods.protonet import ProtoNet\n",
    "from methods.am3_protonet import AM3_ProtoNet\n",
    "from io_utils import model_dict, parse_args, get_resume_file, get_best_file , get_assigned_file\n",
    "%load_ext autoreload\n",
    "%autoreload 2"
   ]
  },
  {
   "cell_type": "code",
   "execution_count": 10,
   "metadata": {
    "ExecuteTime": {
     "end_time": "2020-08-25T11:59:30.506981Z",
     "start_time": "2020-08-25T11:59:30.356966Z"
    }
   },
   "outputs": [
    {
     "name": "stdout",
     "output_type": "stream",
     "text": [
      "Namespace(aux=False, dataset='CUB', method='protonet', mlp_dropout=0.7, model='ResNet10', n_shot=5, num_classes=200, resume=False, save_freq=30, start_epoch=0, stop_epoch=-1, test_n_way=5, train_aug=True, train_n_way=5, warmup=False)\n"
     ]
    }
   ],
   "source": [
    "parser = argparse.ArgumentParser()\n",
    "parser.add_argument('--dataset'     , default='CUB',        help='CUB/miniImagenet/cross/omniglot/cross_char')\n",
    "parser.add_argument('--model'       , default='ResNet10',      help='model: Conv{4|6} / ResNet{10|18|34|50|101}') # 50 and 101 are not used in the paper\n",
    "parser.add_argument('--method'      , default='protonet',   help='baseline/baseline++/protonet/matchingnet/relationnet{_softmax}/maml{_approx}') #relationnet_softmax replace L2 norm with softmax to expedite training, maml_approx use first-order approximation in the gradient for efficiency\n",
    "parser.add_argument('--train_n_way' , default=5, type=int,  help='class num to classify for training') #baseline and baseline++ would ignore this parameter\n",
    "parser.add_argument('--test_n_way'  , default=5, type=int,  help='class num to classify for testing (validation) ') #baseline and baseline++ only use this parameter in finetuning\n",
    "parser.add_argument('--n_shot'      , default=5, type=int,  help='number of labeled data in each class, same as n_support') #baseline and baseline++ only use this parameter in finetuning\n",
    "parser.add_argument('--train_aug'   , default=True, action='store_true',  help='perform data augmentation or not during training ') #still required for save_features.py and test.py to find the model path correctly\n",
    "\n",
    "parser.add_argument('--aux'   , default=False,  help='use attribute as auxiliary data, multimodal method') \n",
    "parser.add_argument('--mlp_dropout' , default=0.7, help='dropout rate in word embedding transformer')\n",
    "\n",
    "parser.add_argument('--num_classes' , default=200, type=int, help='total number of classes in softmax, only used in baseline') #make it larger than the maximum label value in base class\n",
    "parser.add_argument('--save_freq'   , default=30, type=int, help='Save frequency')\n",
    "parser.add_argument('--start_epoch' , default=0, type=int,help ='Starting epoch')\n",
    "parser.add_argument('--stop_epoch'  , default=-1, type=int, help ='Stopping epoch') #for meta-learning methods, each epoch contains 100 episodes. The default epoch number is dataset dependent. See train.py\n",
    "parser.add_argument('--resume'      , action='store_true', help='continue from previous trained model with largest epoch')\n",
    "parser.add_argument('--warmup'      , action='store_true', help='continue from baseline, neglected if resume is true') #\n",
    "params = parser.parse_args([])\n",
    "print(params)"
   ]
  },
  {
   "cell_type": "code",
   "execution_count": 3,
   "metadata": {
    "ExecuteTime": {
     "end_time": "2020-08-25T11:55:44.078044Z",
     "start_time": "2020-08-25T11:55:43.887097Z"
    }
   },
   "outputs": [],
   "source": [
    "aux = params.aux\n",
    "aug = params.train_aug\n",
    "base_file = configs.data_dir[params.dataset] + 'base.json' \n",
    "val_file   = configs.data_dir[params.dataset] + 'val.json' \n",
    "word_dim = 312\n",
    "image_size = 224\n",
    "params.stop_epoch = 400 # This is different as stated in the open-review paper. However, using 400 epoch in baseline actually lead to over-fitting\n",
    "optimization = 'Adam'\n",
    "n_query = max(1, int(16* params.test_n_way/params.train_n_way)) #if test_n_way is smaller than train_n_way, reduce n_query to keep batch size small ,16\n",
    "# print(\"n_query = \", n_query)\n",
    "train_few_shot_params    = dict(n_way = params.train_n_way, n_support = params.n_shot) \n"
   ]
  },
  {
   "cell_type": "code",
   "execution_count": 92,
   "metadata": {
    "ExecuteTime": {
     "end_time": "2020-08-25T11:47:08.388128Z",
     "start_time": "2020-08-25T11:47:08.256194Z"
    }
   },
   "outputs": [
    {
     "name": "stderr",
     "output_type": "stream",
     "text": [
      "/root/anaconda3/envs/torch041-gpu/lib/python3.6/site-packages/torchvision/transforms/transforms.py:563: UserWarning: The use of the transforms.RandomSizedCrop transform is deprecated, please use transforms.RandomResizedCrop instead.\n",
      "  \"please use transforms.RandomResizedCrop instead.\")\n"
     ]
    }
   ],
   "source": [
    "# base_datamgr            = SetDataManager(image_size, n_query = n_query, aux=aux,   **train_few_shot_params)        \n",
    "# base_loader             = base_datamgr.get_data_loader( base_file , aug = params.train_aug )\n",
    "trans_loader = TransformLoader(image_size)\n",
    "transform = trans_loader.get_composed_transform(aug)\n",
    "transform\n",
    "dataset = SetDataset(base_file, 21, transform )"
   ]
  },
  {
   "cell_type": "code",
   "execution_count": 93,
   "metadata": {
    "ExecuteTime": {
     "end_time": "2020-08-25T11:47:10.194247Z",
     "start_time": "2020-08-25T11:47:08.397597Z"
    },
    "scrolled": true
   },
   "outputs": [
    {
     "name": "stdout",
     "output_type": "stream",
     "text": [
      "2\n",
      "torch.Size([21, 3, 224, 224])\n",
      "torch.Size([21])\n"
     ]
    }
   ],
   "source": [
    "for batch in dataset:\n",
    "    print(len(batch))\n",
    "    a, b = batch\n",
    "    print(a.shape)\n",
    "    print(b.shape)\n",
    "    break"
   ]
  },
  {
   "cell_type": "code",
   "execution_count": 95,
   "metadata": {
    "ExecuteTime": {
     "end_time": "2020-08-25T11:47:10.448583Z",
     "start_time": "2020-08-25T11:47:10.403333Z"
    }
   },
   "outputs": [
    {
     "name": "stdout",
     "output_type": "stream",
     "text": [
      "100\n"
     ]
    }
   ],
   "source": [
    "print(len(dataset))"
   ]
  },
  {
   "cell_type": "code",
   "execution_count": 4,
   "metadata": {
    "ExecuteTime": {
     "end_time": "2020-08-25T11:55:55.254693Z",
     "start_time": "2020-08-25T11:55:49.003261Z"
    }
   },
   "outputs": [
    {
     "name": "stdout",
     "output_type": "stream",
     "text": [
      ".//checkpoints/CUB/ResNet10_protonet_aug_5way_5shot/60.tar\n"
     ]
    }
   ],
   "source": [
    "acc_all = []\n",
    "split_list = ['base', 'val']\n",
    "iter_num = 600\n",
    "\n",
    "few_shot_params = dict(n_way = params.test_n_way , n_support = params.n_shot)   # 5 way, 5 shot\n",
    "\n",
    "model           = ProtoNet( model_dict[params.model], **few_shot_params )\n",
    "model = model.cuda()\n",
    "checkpoint_dir = '%s/checkpoints/%s/%s_%s' %(configs.save_dir, params.dataset, params.model, params.method)\n",
    "if params.train_aug:\n",
    "    checkpoint_dir += '_aug'\n",
    "if not params.method in ['baseline', 'baseline++'] :\n",
    "    checkpoint_dir += '_%dway_%dshot' %( params.train_n_way, params.n_shot)\n",
    "\n",
    "# # load  pre-trained-model params\n",
    "resume_file = os.path.join(checkpoint_dir, '60.tar')\n",
    "print(resume_file)\n",
    "tmp = torch.load(resume_file)\n",
    "model.load_state_dict(tmp['state'])\n",
    "\n",
    "# modelfile   = get_best_file(checkpoint_dir)\n",
    "# tmp = torch.load(modelfile)\n",
    "# model.load_state_dict(tmp['state'])"
   ]
  },
  {
   "cell_type": "code",
   "execution_count": 22,
   "metadata": {
    "ExecuteTime": {
     "end_time": "2020-08-25T12:04:57.906452Z",
     "start_time": "2020-08-25T12:04:57.175975Z"
    }
   },
   "outputs": [],
   "source": [
    "model = AM3_ProtoNet(model_dict[params.model], params=params, word_dim=word_dim,  **train_few_shot_params)\n",
    "model = model.cuda()\n",
    "\n",
    "resume_file = 'checkpoints/CUB/ResNet10_am3_protonet_aug_aux_5way_5shot/60.tar'\n",
    "tmp = torch.load(resume_file)\n",
    "model.load_state_dict(tmp['state'])\n"
   ]
  },
  {
   "cell_type": "code",
   "execution_count": 23,
   "metadata": {
    "ExecuteTime": {
     "end_time": "2020-08-25T12:04:59.674522Z",
     "start_time": "2020-08-25T12:04:59.481100Z"
    }
   },
   "outputs": [
    {
     "data": {
      "text/plain": [
       "tensor([[0.1864],\n",
       "        [0.1390],\n",
       "        [0.1350],\n",
       "        [0.0827],\n",
       "        [0.0964],\n",
       "        [0.0840],\n",
       "        [0.0713],\n",
       "        [0.1203],\n",
       "        [0.0784],\n",
       "        [0.0870],\n",
       "        [0.1135],\n",
       "        [0.1369],\n",
       "        [0.0977],\n",
       "        [0.1237],\n",
       "        [0.1096],\n",
       "        [0.1173],\n",
       "        [0.1646],\n",
       "        [0.1379],\n",
       "        [0.1357],\n",
       "        [0.1185],\n",
       "        [0.0831],\n",
       "        [0.1314],\n",
       "        [0.1337],\n",
       "        [0.1302],\n",
       "        [0.1141],\n",
       "        [0.1083],\n",
       "        [0.0898],\n",
       "        [0.1121],\n",
       "        [0.0944],\n",
       "        [0.0897],\n",
       "        [0.1006],\n",
       "        [0.1450],\n",
       "        [0.1416],\n",
       "        [0.1037],\n",
       "        [0.1276],\n",
       "        [0.1203],\n",
       "        [0.1141],\n",
       "        [0.1086],\n",
       "        [0.1370],\n",
       "        [0.0888],\n",
       "        [0.1234],\n",
       "        [0.1287],\n",
       "        [0.1270],\n",
       "        [0.1047],\n",
       "        [0.1281],\n",
       "        [0.0742],\n",
       "        [0.1346],\n",
       "        [0.1034],\n",
       "        [0.0792],\n",
       "        [0.0987],\n",
       "        [0.0852],\n",
       "        [0.1070],\n",
       "        [0.0857],\n",
       "        [0.1222],\n",
       "        [0.0923],\n",
       "        [0.1433],\n",
       "        [0.1401],\n",
       "        [0.1206],\n",
       "        [0.0848],\n",
       "        [0.1097],\n",
       "        [0.1126],\n",
       "        [0.0867],\n",
       "        [0.1326],\n",
       "        [0.0984],\n",
       "        [0.1333],\n",
       "        [0.0856],\n",
       "        [0.1413],\n",
       "        [0.1148],\n",
       "        [0.1373],\n",
       "        [0.1343],\n",
       "        [0.1269],\n",
       "        [0.1009],\n",
       "        [0.1209],\n",
       "        [0.1084],\n",
       "        [0.1036],\n",
       "        [0.1225],\n",
       "        [0.1566],\n",
       "        [0.1142],\n",
       "        [0.0856],\n",
       "        [0.1636],\n",
       "        [0.1308],\n",
       "        [0.1364],\n",
       "        [0.1427],\n",
       "        [0.0833],\n",
       "        [0.0977],\n",
       "        [0.1159],\n",
       "        [0.0950],\n",
       "        [0.1484],\n",
       "        [0.1112],\n",
       "        [0.1166],\n",
       "        [0.1106],\n",
       "        [0.1257],\n",
       "        [0.1159],\n",
       "        [0.1234],\n",
       "        [0.1177],\n",
       "        [0.1259],\n",
       "        [0.1478],\n",
       "        [0.1292],\n",
       "        [0.1311],\n",
       "        [0.0992],\n",
       "        [0.1236],\n",
       "        [0.1222],\n",
       "        [0.0996],\n",
       "        [0.1345],\n",
       "        [0.0794],\n",
       "        [0.1511],\n",
       "        [0.1260],\n",
       "        [0.1084],\n",
       "        [0.1282],\n",
       "        [0.1242],\n",
       "        [0.0710],\n",
       "        [0.1014],\n",
       "        [0.1374],\n",
       "        [0.1196],\n",
       "        [0.1276],\n",
       "        [0.1238],\n",
       "        [0.0895],\n",
       "        [0.1394],\n",
       "        [0.1047],\n",
       "        [0.1283],\n",
       "        [0.1325],\n",
       "        [0.1471],\n",
       "        [0.1642],\n",
       "        [0.1686],\n",
       "        [0.1187],\n",
       "        [0.1286],\n",
       "        [0.1573],\n",
       "        [0.1415],\n",
       "        [0.1438],\n",
       "        [0.1221],\n",
       "        [0.1154],\n",
       "        [0.1085],\n",
       "        [0.1131],\n",
       "        [0.0983],\n",
       "        [0.0935],\n",
       "        [0.1049],\n",
       "        [0.1108],\n",
       "        [0.1034],\n",
       "        [0.1668],\n",
       "        [0.1596],\n",
       "        [0.0881],\n",
       "        [0.1049],\n",
       "        [0.1127],\n",
       "        [0.0809],\n",
       "        [0.1136],\n",
       "        [0.1136],\n",
       "        [0.1103],\n",
       "        [0.1772],\n",
       "        [0.1780],\n",
       "        [0.0908],\n",
       "        [0.1141],\n",
       "        [0.0960],\n",
       "        [0.1079],\n",
       "        [0.1019],\n",
       "        [0.0834],\n",
       "        [0.1074],\n",
       "        [0.1779],\n",
       "        [0.0956],\n",
       "        [0.1040],\n",
       "        [0.0961],\n",
       "        [0.1003],\n",
       "        [0.1322],\n",
       "        [0.1700],\n",
       "        [0.1090],\n",
       "        [0.1195],\n",
       "        [0.1230],\n",
       "        [0.1362],\n",
       "        [0.1031],\n",
       "        [0.0941],\n",
       "        [0.1707],\n",
       "        [0.0947],\n",
       "        [0.1378],\n",
       "        [0.1438],\n",
       "        [0.1131],\n",
       "        [0.0988],\n",
       "        [0.1301],\n",
       "        [0.1399],\n",
       "        [0.1102],\n",
       "        [0.1058],\n",
       "        [0.1357],\n",
       "        [0.1323],\n",
       "        [0.0904],\n",
       "        [0.1261],\n",
       "        [0.1536],\n",
       "        [0.0925],\n",
       "        [0.0847],\n",
       "        [0.1245],\n",
       "        [0.1250],\n",
       "        [0.1389],\n",
       "        [0.1624],\n",
       "        [0.1229],\n",
       "        [0.1149],\n",
       "        [0.1014],\n",
       "        [0.1465],\n",
       "        [0.0924],\n",
       "        [0.1178],\n",
       "        [0.1227],\n",
       "        [0.1003],\n",
       "        [0.1712],\n",
       "        [0.1797]], device='cuda:0', grad_fn=<SigmoidBackward>)"
      ]
     },
     "execution_count": 23,
     "metadata": {},
     "output_type": "execute_result"
    }
   ],
   "source": [
    "attr_feat = np.load('filelists/CUB/attr_array.npy')\n",
    "attr_feat = torch.from_numpy(attr_feat).cuda()\n",
    "attr_proj = model.tranformer(attr_feat)\n",
    "lambda_c = model.mixNet(attr_proj)\n",
    "lambda_c"
   ]
  },
  {
   "cell_type": "code",
   "execution_count": 24,
   "metadata": {
    "ExecuteTime": {
     "end_time": "2020-08-25T12:05:01.783388Z",
     "start_time": "2020-08-25T12:05:01.644524Z"
    }
   },
   "outputs": [
    {
     "data": {
      "text/plain": [
       "tensor(0.1187, device='cuda:0', grad_fn=<MeanBackward1>)"
      ]
     },
     "execution_count": 24,
     "metadata": {},
     "output_type": "execute_result"
    }
   ],
   "source": [
    "lambda_c.mean()   # 0.12, 0.1696, 0.1187,"
   ]
  },
  {
   "cell_type": "code",
   "execution_count": null,
   "metadata": {
    "ExecuteTime": {
     "end_time": "2020-08-16T04:39:34.885870Z",
     "start_time": "2020-08-16T04:39:34.748260Z"
    }
   },
   "outputs": [],
   "source": [
    "novel_file = os.path.join( checkpoint_dir.replace(\"checkpoints\",\"features\"),\n",
    "                          \"base_best.hdf5\") #defaut split = novel, but you can also test base or val classes\n",
    "cl_data_file = feat_loader.init_loader(novel_file)\n",
    "n_way = 5, \n",
    "n_support = 5, \n",
    "n_query = 15"
   ]
  },
  {
   "cell_type": "code",
   "execution_count": null,
   "metadata": {
    "ExecuteTime": {
     "end_time": "2020-08-16T07:48:48.047412Z",
     "start_time": "2020-08-16T07:48:47.937597Z"
    },
    "scrolled": true
   },
   "outputs": [],
   "source": [
    "file = h5py.File(novel_file)   # <KeysViewHDF5 ['all_feats', 'all_labels', 'count']>\n",
    "print(file.keys())\n",
    "feats = file['all_feats']\n",
    "# feats.shape               # 5888, 512\n",
    "labels = file['all_labels']\n",
    "# labels.shape     # (5888,)\n",
    "while np.sum(feats[-1]) == 0:\n",
    "    feats  = np.delete(feats,-1,axis = 0)\n",
    "    labels = np.delete(labels,-1,axis = 0)\n",
    "\n",
    "print(feats.shape)\n",
    "print(labels.shape)"
   ]
  },
  {
   "cell_type": "code",
   "execution_count": null,
   "metadata": {
    "ExecuteTime": {
     "end_time": "2020-08-17T07:05:08.195309Z",
     "start_time": "2020-08-17T07:05:08.148589Z"
    }
   },
   "outputs": [],
   "source": [
    "attr_file = 'filelists/CUB/attr_array.npy'\n",
    "attr = np.load(attr_file)\n",
    "attr.shape"
   ]
  },
  {
   "cell_type": "code",
   "execution_count": 84,
   "metadata": {
    "ExecuteTime": {
     "end_time": "2020-08-24T14:22:19.941227Z",
     "start_time": "2020-08-24T14:22:19.731537Z"
    }
   },
   "outputs": [
    {
     "name": "stdout",
     "output_type": "stream",
     "text": [
      "The autoreload extension is already loaded. To reload it, use:\n",
      "  %reload_ext autoreload\n"
     ]
    }
   ],
   "source": [
    "import torch\n",
    "from PIL import Image\n",
    "import numpy as np\n",
    "import torchvision.transforms as transforms\n",
    "import data.additional_transforms as add_transforms\n",
    "from data.dataset import SimpleDataset, MultiModalDataset, SetDataset, EpisodicBatchSampler, EpisodicMultiModalSampler\n",
    "from abc import abstractmethod\n",
    "import pylab\n",
    "\n",
    "%load_ext autoreload\n",
    "%autoreload 2\n",
    "%matplotlib inline"
   ]
  },
  {
   "cell_type": "code",
   "execution_count": 81,
   "metadata": {
    "ExecuteTime": {
     "end_time": "2020-08-24T14:19:02.051841Z",
     "start_time": "2020-08-24T14:19:01.898365Z"
    }
   },
   "outputs": [
    {
     "name": "stderr",
     "output_type": "stream",
     "text": [
      "/root/anaconda3/envs/torch041-gpu/lib/python3.6/site-packages/torchvision/transforms/transforms.py:563: UserWarning: The use of the transforms.RandomSizedCrop transform is deprecated, please use transforms.RandomResizedCrop instead.\n",
      "  \"please use transforms.RandomResizedCrop instead.\")\n"
     ]
    }
   ],
   "source": [
    "img_file = 'filelists/CUB/base.json'\n",
    "attr_file = 'filelists/CUB/attr_array.npy'\n",
    "n_way = 5\n",
    "batch_size = 30\n",
    "n_episode = 100\n",
    "transform_list = ['RandomSizedCrop', 'ImageJitter', 'RandomHorizontalFlip', 'ToTensor', 'Normalize']\n",
    "transform_funcs = [ parse_transform(x) for x in transform_list]\n",
    "transform = transforms.Compose(transform_funcs)"
   ]
  },
  {
   "cell_type": "code",
   "execution_count": 74,
   "metadata": {
    "ExecuteTime": {
     "end_time": "2020-08-24T14:12:41.518714Z",
     "start_time": "2020-08-24T14:12:41.169627Z"
    }
   },
   "outputs": [
    {
     "name": "stdout",
     "output_type": "stream",
     "text": [
      "100\n"
     ]
    }
   ],
   "source": [
    "dataset = SetDataset(img_file , batch_size, transform )\n",
    "sampler = EpisodicBatchSampler(len(dataset), n_way, n_episodes=n_episode )  \n",
    "data_loader_params = dict(batch_sampler = sampler,  num_workers = 12, pin_memory = True) \n",
    "data_loader = torch.utils.data.DataLoader(dataset, **data_loader_params)\n",
    "# print(len(dataset))\n",
    "print(len(data_loader))"
   ]
  },
  {
   "cell_type": "code",
   "execution_count": 75,
   "metadata": {
    "ExecuteTime": {
     "end_time": "2020-08-24T14:13:08.649840Z",
     "start_time": "2020-08-24T14:12:51.464421Z"
    },
    "scrolled": true
   },
   "outputs": [
    {
     "name": "stdout",
     "output_type": "stream",
     "text": [
      "torch.Size([5, 30, 3, 224, 224])\n"
     ]
    }
   ],
   "source": [
    "for img_list,y in data_loader:\n",
    "    print(img_list.shape)\n",
    "#     y\n",
    "    \n",
    "    break"
   ]
  },
  {
   "cell_type": "code",
   "execution_count": 77,
   "metadata": {
    "ExecuteTime": {
     "end_time": "2020-08-24T14:14:51.703466Z",
     "start_time": "2020-08-24T14:14:51.599491Z"
    }
   },
   "outputs": [
    {
     "data": {
      "text/plain": [
       "torch.Size([3, 224, 224])"
      ]
     },
     "execution_count": 77,
     "metadata": {},
     "output_type": "execute_result"
    }
   ],
   "source": [
    "img_list[0][0].shape"
   ]
  },
  {
   "cell_type": "code",
   "execution_count": 86,
   "metadata": {
    "ExecuteTime": {
     "end_time": "2020-08-24T14:25:07.175666Z",
     "start_time": "2020-08-24T14:25:03.970396Z"
    },
    "scrolled": true
   },
   "outputs": [
    {
     "name": "stderr",
     "output_type": "stream",
     "text": [
      "Clipping input data to the valid range for imshow with RGB data ([0..1] for floats or [0..255] for integers).\n"
     ]
    },
    {
     "data": {
      "image/png": "[encoded data removed]",
      "text/plain": [
       "<Figure size 432x288 with 1 Axes>"
      ]
     },
     "metadata": {
      "needs_background": "light"
     },
     "output_type": "display_data"
    },
    {
     "name": "stderr",
     "output_type": "stream",
     "text": [
      "Clipping input data to the valid range for imshow with RGB data ([0..1] for floats or [0..255] for integers).\n"
     ]
    },
    {
     "data": {
      "image/png": "[encoded data removed]",
      "text/plain": [
       "<Figure size 432x288 with 1 Axes>"
      ]
     },
     "metadata": {
      "needs_background": "light"
     },
     "output_type": "display_data"
    },
    {
     "name": "stderr",
     "output_type": "stream",
     "text": [
      "Clipping input data to the valid range for imshow with RGB data ([0..1] for floats or [0..255] for integers).\n"
     ]
    },
    {
     "data": {
      "image/png": "[encoded data removed]",
      "text/plain": [
       "<Figure size 432x288 with 1 Axes>"
      ]
     },
     "metadata": {
      "needs_background": "light"
     },
     "output_type": "display_data"
    },
    {
     "name": "stderr",
     "output_type": "stream",
     "text": [
      "Clipping input data to the valid range for imshow with RGB data ([0..1] for floats or [0..255] for integers).\n"
     ]
    },
    {
     "data": {
      "image/png": "[encoded data removed]",
      "text/plain": [
       "<Figure size 432x288 with 1 Axes>"
      ]
     },
     "metadata": {
      "needs_background": "light"
     },
     "output_type": "display_data"
    }
   ],
   "source": [
    "for i,img in enumerate(img_list[0]):\n",
    "    img = img.numpy()\n",
    "    img = np.transpose(img ,(1,2,0))\n",
    "    plt.imshow(img)\n",
    "    plt.show()\n",
    "    if i >=3:\n",
    "        break\n"
   ]
  },
  {
   "cell_type": "code",
   "execution_count": null,
   "metadata": {
    "ExecuteTime": {
     "end_time": "2020-08-17T08:38:38.229132Z",
     "start_time": "2020-08-17T08:38:38.102400Z"
    }
   },
   "outputs": [],
   "source": [
    "dataset = MultiModalDataset(img_file, attr_file, transform)\n",
    "len(dataset)\n",
    "sampler = EpisodicMultiModalSampler(dataset.label, n_way, batch_size, n_episodes)\n",
    "\n",
    "data_loader_params = dict(batch_sampler = sampler,  num_workers = 12, pin_memory = True)       \n",
    "data_loader = torch.utils.data.DataLoader(dataset, **data_loader_params)"
   ]
  },
  {
   "cell_type": "code",
   "execution_count": null,
   "metadata": {
    "ExecuteTime": {
     "end_time": "2020-08-17T08:39:51.822301Z",
     "start_time": "2020-08-17T08:39:51.737575Z"
    }
   },
   "outputs": [],
   "source": [
    "# print(len(sampler))\n",
    "# # sampler.m_ind\n",
    "# len(sampler.m_ind)\n",
    "# for i in sampler:\n",
    "#     print(i.shape)    # torch.Size([150])\n",
    "#     print(i)\n",
    "#     break\n",
    "a = i.view(5, 30)\n",
    "print(a.shape)\n",
    "a"
   ]
  },
  {
   "cell_type": "code",
   "execution_count": null,
   "metadata": {
    "ExecuteTime": {
     "end_time": "2020-08-17T08:45:52.352690Z",
     "start_time": "2020-08-17T08:45:52.292562Z"
    }
   },
   "outputs": [],
   "source": [
    "x = torch.zeros([150,224])\n",
    "a = x.view(5, -1, x.shape[-1])\n",
    "a.shape"
   ]
  },
  {
   "cell_type": "code",
   "execution_count": null,
   "metadata": {
    "ExecuteTime": {
     "end_time": "2020-08-17T08:31:45.113610Z",
     "start_time": "2020-08-17T08:31:20.304519Z"
    },
    "scrolled": true
   },
   "outputs": [],
   "source": [
    "for i, (x, _) in enumerate(data_loader, 1):\n",
    "    img_feat, attr_feat = x\n",
    "    print(img_feat.shape)\n",
    "    print(attr_feat.shape)\n",
    "    break"
   ]
  },
  {
   "cell_type": "code",
   "execution_count": null,
   "metadata": {
    "ExecuteTime": {
     "end_time": "2020-08-17T08:26:47.708839Z",
     "start_time": "2020-08-17T08:26:47.653296Z"
    }
   },
   "outputs": [],
   "source": [
    "len(img_feat)\n",
    "img_feat[0].shape"
   ]
  },
  {
   "cell_type": "code",
   "execution_count": null,
   "metadata": {
    "ExecuteTime": {
     "end_time": "2020-08-17T08:27:06.834350Z",
     "start_time": "2020-08-17T08:27:06.768120Z"
    }
   },
   "outputs": [],
   "source": [
    "img_feat[1].shape"
   ]
  },
  {
   "cell_type": "code",
   "execution_count": null,
   "metadata": {
    "ExecuteTime": {
     "end_time": "2020-08-17T09:25:43.906933Z",
     "start_time": "2020-08-17T09:25:43.343323Z"
    },
    "scrolled": true
   },
   "outputs": [],
   "source": [
    "attr_feat = x[1]\n",
    "attr_feat.cuda()"
   ]
  },
  {
   "cell_type": "code",
   "execution_count": null,
   "metadata": {
    "ExecuteTime": {
     "end_time": "2020-08-17T11:26:10.707286Z",
     "start_time": "2020-08-17T11:26:10.604833Z"
    }
   },
   "outputs": [],
   "source": [
    "a.shape[1]"
   ]
  },
  {
   "cell_type": "code",
   "execution_count": null,
   "metadata": {
    "ExecuteTime": {
     "end_time": "2020-08-17T11:28:43.448740Z",
     "start_time": "2020-08-17T11:28:43.331610Z"
    }
   },
   "outputs": [],
   "source": [
    "a = torch.zeros([105,3,224,224])\n",
    "# a.shape    torch.Size([105, 3, 224, 224])\n",
    "b = a.view(5, int(a.shape[0]/5), a.shape[1], a.shape[2], a.shape[3])\n",
    "b.shape"
   ]
  },
  {
   "cell_type": "code",
   "execution_count": null,
   "metadata": {
    "ExecuteTime": {
     "start_time": "2020-08-17T12:13:45.206Z"
    }
   },
   "outputs": [],
   "source": [
    "start = time.time()\n",
    "time.sleep(2)\n",
    "end = time.time()\n",
    "print(\"%.2f s\" % (end - start))"
   ]
  },
  {
   "cell_type": "markdown",
   "metadata": {},
   "source": [
    "### 验证图像的augmentation"
   ]
  },
  {
   "cell_type": "code",
   "execution_count": 43,
   "metadata": {
    "ExecuteTime": {
     "end_time": "2020-08-24T13:01:43.543714Z",
     "start_time": "2020-08-24T13:01:41.330632Z"
    }
   },
   "outputs": [],
   "source": [
    "import torch\n",
    "from PIL import Image\n",
    "import numpy as np\n",
    "import torchvision.transforms as transforms\n",
    "import data.additional_transforms as add_transforms\n",
    "import matplotlib.pyplot as plt  \n",
    "import numpy as np\n"
   ]
  },
  {
   "cell_type": "code",
   "execution_count": 37,
   "metadata": {
    "ExecuteTime": {
     "end_time": "2020-08-24T12:57:47.384410Z",
     "start_time": "2020-08-24T12:57:47.377957Z"
    }
   },
   "outputs": [],
   "source": [
    "normalize_param    = dict(mean= [0.485, 0.456, 0.406] , std=[0.229, 0.224, 0.225])\n",
    "jitter_param       = dict(Brightness=0.4, Contrast=0.4, Color=0.4)\n",
    "image_size = 224"
   ]
  },
  {
   "cell_type": "code",
   "execution_count": 41,
   "metadata": {
    "ExecuteTime": {
     "end_time": "2020-08-24T12:58:24.574577Z",
     "start_time": "2020-08-24T12:58:24.542471Z"
    }
   },
   "outputs": [],
   "source": [
    "def parse_transform(transform_type):\n",
    "    if transform_type=='ImageJitter':\n",
    "        method = add_transforms.ImageJitter( jitter_param )\n",
    "        return method\n",
    "    method = getattr(transforms, transform_type)\n",
    "    if transform_type=='RandomSizedCrop':\n",
    "        return method(image_size) \n",
    "    elif transform_type=='CenterCrop':\n",
    "        return method(image_size) \n",
    "    elif transform_type=='Scale':\n",
    "        return method([int(image_size*1.15), int(image_size*1.15)])\n",
    "    elif transform_type=='Normalize':\n",
    "        return method(**normalize_param )\n",
    "    else:\n",
    "        return method()"
   ]
  },
  {
   "cell_type": "code",
   "execution_count": 47,
   "metadata": {
    "ExecuteTime": {
     "end_time": "2020-08-24T13:04:18.668234Z",
     "start_time": "2020-08-24T13:04:18.611101Z"
    }
   },
   "outputs": [
    {
     "name": "stderr",
     "output_type": "stream",
     "text": [
      "/root/anaconda3/envs/torch041-gpu/lib/python3.6/site-packages/torchvision/transforms/transforms.py:563: UserWarning: The use of the transforms.RandomSizedCrop transform is deprecated, please use transforms.RandomResizedCrop instead.\n",
      "  \"please use transforms.RandomResizedCrop instead.\")\n"
     ]
    },
    {
     "data": {
      "text/plain": [
       "Compose(\n",
       "    RandomSizedCrop(size=(224, 224), scale=(0.08, 1.0), ratio=(0.75, 1.3333), interpolation=PIL.Image.BILINEAR)\n",
       "    <data.additional_transforms.ImageJitter object at 0x7f338079b4e0>\n",
       "    RandomHorizontalFlip(p=0.5)\n",
       "    ToTensor()\n",
       "    Normalize(mean=[0.485, 0.456, 0.406], std=[0.229, 0.224, 0.225])\n",
       ")"
      ]
     },
     "execution_count": 47,
     "metadata": {},
     "output_type": "execute_result"
    }
   ],
   "source": [
    "transform_list = ['RandomSizedCrop', 'ImageJitter', 'RandomHorizontalFlip', 'ToTensor', 'Normalize']\n",
    "transform_funcs = [ parse_transform(x) for x in transform_list]\n",
    "transform = transforms.Compose(transform_funcs)\n",
    "transform"
   ]
  },
  {
   "cell_type": "code",
   "execution_count": 56,
   "metadata": {
    "ExecuteTime": {
     "end_time": "2020-08-24T13:31:18.417082Z",
     "start_time": "2020-08-24T13:31:17.891490Z"
    }
   },
   "outputs": [
    {
     "name": "stderr",
     "output_type": "stream",
     "text": [
      "Clipping input data to the valid range for imshow with RGB data ([0..1] for floats or [0..255] for integers).\n"
     ]
    },
    {
     "data": {
      "image/png": "[encoded data removed]",
      "text/plain": [
       "<Figure size 432x288 with 1 Axes>"
      ]
     },
     "metadata": {
      "needs_background": "light"
     },
     "output_type": "display_data"
    }
   ],
   "source": [
    "# img_path = '/test/0Dataset_others/Dataset/Caltech-UCSD-Birds-200-2011/CUB_200_2011/images/001.Black_footed_Albatross/Black_Footed_Albatross_0001_796111.jpg'\n",
    "img_path = 'Black_Footed_Albatross_0001_796111.jpg'\n",
    "img = Image.open(img_path).convert('RGB')\n",
    "img = transform(img)\n",
    "img.shape   # torch.Size([3, 224, 224])\n",
    "img = img.numpy()\n",
    "img = np.transpose(img ,(1,2,0))\n",
    "plt.imshow(img)\n",
    "plt.show()"
   ]
  },
  {
   "cell_type": "code",
   "execution_count": 88,
   "metadata": {
    "ExecuteTime": {
     "end_time": "2020-08-25T02:49:33.344667Z",
     "start_time": "2020-08-25T02:49:33.206481Z"
    }
   },
   "outputs": [
    {
     "ename": "NameError",
     "evalue": "name 'Scale' is not defined",
     "output_type": "error",
     "traceback": [
      "\u001b[0;31m---------------------------------------------------------------------------\u001b[0m",
      "\u001b[0;31mNameError\u001b[0m                                 Traceback (most recent call last)",
      "\u001b[0;32m<ipython-input-88-eb61230e1a39>\u001b[0m in \u001b[0;36m<module>\u001b[0;34m\u001b[0m\n\u001b[0;32m----> 1\u001b[0;31m data_aug_tr= transforms.Compose([Scale(224), # resize longer side of an image to the defined size\n\u001b[0m\u001b[1;32m      2\u001b[0m                       \u001b[0mCenterPadding\u001b[0m\u001b[0;34m(\u001b[0m\u001b[0;34m[\u001b[0m\u001b[0;36m224\u001b[0m\u001b[0;34m,\u001b[0m \u001b[0;36m224\u001b[0m\u001b[0;34m]\u001b[0m\u001b[0;34m)\u001b[0m\u001b[0;34m,\u001b[0m \u001b[0;31m# zero pad remaining regions\u001b[0m\u001b[0;34m\u001b[0m\u001b[0;34m\u001b[0m\u001b[0m\n\u001b[1;32m      3\u001b[0m                       \u001b[0mRandomHorizontallyFlip\u001b[0m\u001b[0;34m(\u001b[0m\u001b[0;34m)\u001b[0m\u001b[0;34m,\u001b[0m \u001b[0;31m# random horizontal flip\u001b[0m\u001b[0;34m\u001b[0m\u001b[0;34m\u001b[0m\u001b[0m\n\u001b[1;32m      4\u001b[0m                       RandomRotate(180)])  # ramdom rotation\n\u001b[1;32m      5\u001b[0m \u001b[0mdata_aug_tr\u001b[0m\u001b[0;34m\u001b[0m\u001b[0;34m\u001b[0m\u001b[0m\n",
      "\u001b[0;31mNameError\u001b[0m: name 'Scale' is not defined"
     ]
    }
   ],
   "source": [
    "data_aug_tr= transforms.Compose([Scale(224), # resize longer side of an image to the defined size\n",
    "                      CenterPadding([224, 224]), # zero pad remaining regions\n",
    "                      RandomHorizontallyFlip(), # random horizontal flip\n",
    "                      RandomRotate(180)])  # ramdom rotation\n",
    "data_aug_tr"
   ]
  },
  {
   "cell_type": "code",
   "execution_count": null,
   "metadata": {},
   "outputs": [],
   "source": [
    "img_path = 'Black_Footed_Albatross_0001_796111.jpg'\n",
    "img = Image.open(img_path).convert('RGB')\n",
    "\n",
    "\n"
   ]
  },
  {
   "cell_type": "markdown",
   "metadata": {},
   "source": [
    "### mix系数λ"
   ]
  },
  {
   "cell_type": "code",
   "execution_count": null,
   "metadata": {},
   "outputs": [],
   "source": [
    "model           = ProtoNet( model_dict[params.model], **train_few_shot_params ) \n",
    "resume_file = 'checkpoints/CUB/ResNet10_protonet_aug_5way_5shot/60.tar'\n",
    "tmp = torch.load(resume_file)\n"
   ]
  },
  {
   "cell_type": "markdown",
   "metadata": {},
   "source": [
    "# stage 2: train_vae"
   ]
  },
  {
   "cell_type": "code",
   "execution_count": 52,
   "metadata": {
    "ExecuteTime": {
     "end_time": "2020-08-18T11:05:20.772380Z",
     "start_time": "2020-08-18T11:05:20.339887Z"
    }
   },
   "outputs": [
    {
     "name": "stdout",
     "output_type": "stream",
     "text": [
      "The autoreload extension is already loaded. To reload it, use:\n",
      "  %reload_ext autoreload\n"
     ]
    }
   ],
   "source": [
    "import torch\n",
    "import numpy as np\n",
    "from torch.autograd import Variable\n",
    "import torch.nn as nn\n",
    "import torch.optim\n",
    "import json\n",
    "import torch.utils.data.sampler\n",
    "import os\n",
    "import glob\n",
    "import random\n",
    "import time\n",
    "\n",
    "import configs\n",
    "import backbone\n",
    "import data.feature_loader as feat_loader\n",
    "from data.datamgr import SetDataManager\n",
    "from data.dataloader_vae import DATA_LOADER as dataloader\n",
    "\n",
    "from methods.protonet import ProtoNet\n",
    "from io_utils import model_dict, parse_args, get_resume_file, get_best_file , get_assigned_file\n",
    "\n",
    "\n",
    "%load_ext autoreload\n",
    "%autoreload 2"
   ]
  },
  {
   "cell_type": "code",
   "execution_count": 53,
   "metadata": {
    "ExecuteTime": {
     "end_time": "2020-08-18T11:05:23.917501Z",
     "start_time": "2020-08-18T11:05:23.808094Z"
    }
   },
   "outputs": [],
   "source": [
    "checkpoint_dir = 'features/CUB/ResNet10_protonet_aug_5way_5shot'\n"
   ]
  },
  {
   "cell_type": "code",
   "execution_count": 55,
   "metadata": {
    "ExecuteTime": {
     "end_time": "2020-08-18T11:07:24.296568Z",
     "start_time": "2020-08-18T11:07:23.866810Z"
    }
   },
   "outputs": [],
   "source": [
    "base_file = os.path.join(checkpoint_dir.replace(\"checkpoints\",\"features\"),  \"base_best.hdf5\")\n",
    "cl_data_file = feat_loader.init_loader(base_file)\n",
    "# dim = cl_data_file.keys()[0].shape"
   ]
  },
  {
   "cell_type": "code",
   "execution_count": null,
   "metadata": {
    "ExecuteTime": {
     "end_time": "2020-08-18T11:10:05.261738Z",
     "start_time": "2020-08-18T11:09:44.192Z"
    }
   },
   "outputs": [],
   "source": [
    "a = cl_data_file.keys()\n",
    "cl_data_file[a[0]].type\n",
    "# len(a)"
   ]
  },
  {
   "cell_type": "code",
   "execution_count": 67,
   "metadata": {
    "ExecuteTime": {
     "end_time": "2020-08-18T11:14:53.349474Z",
     "start_time": "2020-08-18T11:14:53.038859Z"
    }
   },
   "outputs": [
    {
     "name": "stderr",
     "output_type": "stream",
     "text": [
      "[autoreload of data.dataloader_vae failed: Traceback (most recent call last):\n",
      "  File \"/root/anaconda3/envs/torch041-gpu/lib/python3.6/site-packages/IPython/extensions/autoreload.py\", line 245, in check\n",
      "    superreload(m, reload, self.old_objects)\n",
      "  File \"/root/anaconda3/envs/torch041-gpu/lib/python3.6/site-packages/IPython/extensions/autoreload.py\", line 394, in superreload\n",
      "    module = reload(module)\n",
      "  File \"/root/anaconda3/envs/torch041-gpu/lib/python3.6/imp.py\", line 315, in reload\n",
      "    return importlib.reload(module)\n",
      "  File \"/root/anaconda3/envs/torch041-gpu/lib/python3.6/importlib/__init__.py\", line 166, in reload\n",
      "    _bootstrap._exec(spec, module)\n",
      "  File \"<frozen importlib._bootstrap>\", line 618, in _exec\n",
      "  File \"<frozen importlib._bootstrap_external>\", line 674, in exec_module\n",
      "  File \"<frozen importlib._bootstrap_external>\", line 781, in get_code\n",
      "  File \"<frozen importlib._bootstrap_external>\", line 741, in source_to_code\n",
      "  File \"<frozen importlib._bootstrap>\", line 219, in _call_with_frames_removed\n",
      "  File \"/test/5Mycode/AttrMissing2/data/dataloader_vae.py\", line 28\n",
      "    img_dim =\n",
      "             ^\n",
      "SyntaxError: invalid syntax\n",
      "]\n"
     ]
    },
    {
     "data": {
      "text/plain": [
       "512"
      ]
     },
     "execution_count": 67,
     "metadata": {},
     "output_type": "execute_result"
    }
   ],
   "source": [
    "b = list(a)\n",
    "c =cl_data_file[b[0]][0]\n",
    "len(c)"
   ]
  },
  {
   "cell_type": "code",
   "execution_count": null,
   "metadata": {
    "ExecuteTime": {
     "end_time": "2020-08-17T13:35:53.206062Z",
     "start_time": "2020-08-17T13:35:52.966226Z"
    },
    "scrolled": true
   },
   "outputs": [],
   "source": [
    "# print(cl_data_file.keys())\n",
    "# len(cl_data_file[4])\n",
    "class_unique = list(cl_data_file.keys())\n",
    "idxes = torch.randperm(len(class_unique))[:5]\n",
    "print(idxes)\n",
    "classes = [class_unique[i] for i in idxes]\n",
    "print(classes)\n",
    "a = [1,3,5]\n",
    "classes[a]"
   ]
  },
  {
   "cell_type": "code",
   "execution_count": null,
   "metadata": {
    "ExecuteTime": {
     "end_time": "2020-08-17T13:31:53.341606Z",
     "start_time": "2020-08-17T13:31:53.240572Z"
    }
   },
   "outputs": [],
   "source": [
    "l = torch.tensor(cl_data_file[0])\n",
    "l.shape"
   ]
  },
  {
   "cell_type": "code",
   "execution_count": null,
   "metadata": {
    "ExecuteTime": {
     "end_time": "2020-08-17T13:36:44.105955Z",
     "start_time": "2020-08-17T13:36:43.933053Z"
    }
   },
   "outputs": [],
   "source": [
    "batch = []\n",
    "for c in classes:\n",
    "    l = torch.tensor(cl_data_file[c])\n",
    "    pos = torch.randperm(len(l))[:5]\n",
    "#     print(pos)\n",
    "    feat = l[pos]\n",
    "#     print(feat.shape)\n",
    "    batch.append(feat)\n",
    "    \n",
    "batch = [t.cpu().numpy() for t in batch]   # [tensor --> ndarray]\n",
    "batch_feature = torch.tensor(batch)  # list --> tensorbatch_feature.shape\n",
    "batch_feature.shape"
   ]
  },
  {
   "cell_type": "code",
   "execution_count": 6,
   "metadata": {
    "ExecuteTime": {
     "end_time": "2020-08-18T05:42:52.065635Z",
     "start_time": "2020-08-18T05:42:51.931444Z"
    }
   },
   "outputs": [],
   "source": [
    "DATASET = 'CUB'\n",
    "auxiliary_data_source = 'attribute'\n",
    "attr_file = 'filelists/CUB/attr_array.npy'\n",
    "base_file = 'features/CUB/ResNet10_protonet_aug_5way_5shot/base_best.hdf5'\n",
    "val_file = 'features/CUB/ResNet10_protonet_aug_5way_5shot/val_best.hdf5'\n",
    "n_way = 5\n",
    "k_shot = 5\n",
    "batch_size = 2"
   ]
  },
  {
   "cell_type": "code",
   "execution_count": 5,
   "metadata": {
    "ExecuteTime": {
     "end_time": "2020-08-18T05:41:08.195650Z",
     "start_time": "2020-08-18T05:41:07.544633Z"
    }
   },
   "outputs": [],
   "source": [
    "base_dataset = dataloader(DATASET, auxiliary_data_source , base_file, attr_file, n_way, k_shot)\n",
    "# val_dataset = dataloader(DATASET, auxiliary_data_source, val_file, attr_file, n_way, k_shot)\n"
   ]
  },
  {
   "cell_type": "code",
   "execution_count": 11,
   "metadata": {
    "ExecuteTime": {
     "end_time": "2020-08-18T05:45:18.833387Z",
     "start_time": "2020-08-18T05:45:18.712154Z"
    }
   },
   "outputs": [
    {
     "data": {
      "text/plain": [
       "torch.Size([10, 312])"
      ]
     },
     "execution_count": 11,
     "metadata": {},
     "output_type": "execute_result"
    }
   ],
   "source": [
    "label, data_from_modalities = base_dataset.next_batch(batch_size)\n",
    "# label    # [198, 84, 42, 24, 194, 44, 184, 112, 78, 96]\n",
    "img_feat = data_from_modalities[0]\n",
    "attr_feat = data_from_modalities[1]\n",
    "img_feat.shape     # torch.Size([10, 5, 512])\n",
    "attr_feat.shape    # torch.Size([10, 312])"
   ]
  },
  {
   "cell_type": "code",
   "execution_count": 31,
   "metadata": {
    "ExecuteTime": {
     "end_time": "2020-08-18T08:41:42.868761Z",
     "start_time": "2020-08-18T08:41:42.760473Z"
    }
   },
   "outputs": [
    {
     "name": "stdout",
     "output_type": "stream",
     "text": [
      "The autoreload extension is already loaded. To reload it, use:\n",
      "  %reload_ext autoreload\n"
     ]
    }
   ],
   "source": [
    "from methods.vae_proto import Model\n",
    "%load_ext autoreload\n",
    "%autoreload 2"
   ]
  },
  {
   "cell_type": "code",
   "execution_count": 28,
   "metadata": {
    "ExecuteTime": {
     "end_time": "2020-08-18T08:41:07.460136Z",
     "start_time": "2020-08-18T08:41:07.351425Z"
    }
   },
   "outputs": [],
   "source": [
    "hyperparameters = {\n",
    "    'num_shots': 0,\n",
    "    'device': 'cuda',\n",
    "    'model_specifics': {'cross_reconstruction': True,\n",
    "                       'name': 'CADA',\n",
    "                       'distance': 'wasserstein',\n",
    "                       'warmup': {'beta': {'factor': 0.25,\n",
    "                                           'end_epoch': 93,\n",
    "                                           'start_epoch': 0},\n",
    "                                  'cross_reconstruction': {'factor': 2.37,\n",
    "                                                           'end_epoch': 75,\n",
    "                                                           'start_epoch': 21},\n",
    "                                  'distance': {'factor': 8.13,\n",
    "                                               'end_epoch': 22,\n",
    "                                               'start_epoch': 6}}},\n",
    "\n",
    "    'lr_gen_model': 0.00015,\n",
    "    'generalized': True,\n",
    "    'xyu_samples_per_class': {'SUN': (200, 0, 400, 0),\n",
    "                              'APY': (200, 0, 400, 0),\n",
    "                              'CUB': (200, 0, 400, 0),\n",
    "                              'AWA2': (200, 0, 400, 0),\n",
    "                              'FLO': (200, 0, 400, 0),\n",
    "                              'AWA1': (200, 0, 400, 0)},\n",
    "    'epochs': 100,\n",
    "    'loss': 'l1',\n",
    "    'auxiliary_data_source' : 'attributes',\n",
    "    'lr_cls': 0.001,\n",
    "    'dataset': 'CUB',\n",
    "    'hidden_size_rule': {'resnet_features': (1560, 1660),\n",
    "                        'attributes': (1450, 665),\n",
    "                        'sentences': (1450, 665) },\n",
    "    'latent_size': 64,\n",
    "    'n_batch' : 100,\n",
    "    'batch_size' : 6\n",
    "\n",
    "}\n",
    "hyperparameters['dataset'] = 'CUB'\n",
    "hyperparameters['num_shots']= 5\n",
    "hyperparameters['num_ways'] = 5\n",
    "hyperparameters['generalized']= True\n",
    "hyperparameters['img_dim'] = 512\n",
    "hyperparameters['attr_dim'] = 312"
   ]
  },
  {
   "cell_type": "code",
   "execution_count": 34,
   "metadata": {
    "ExecuteTime": {
     "end_time": "2020-08-18T08:42:50.303831Z",
     "start_time": "2020-08-18T08:42:50.088708Z"
    }
   },
   "outputs": [
    {
     "data": {
      "text/plain": [
       "[{'params': [Parameter containing:\n",
       "   tensor([[ 0.0174,  0.0015, -0.0042,  ..., -0.0141, -0.0242, -0.0061],\n",
       "           [-0.0244, -0.0015,  0.0248,  ..., -0.0144, -0.0008,  0.0070],\n",
       "           [ 0.0249,  0.0246,  0.0048,  ...,  0.0130,  0.0038, -0.0107],\n",
       "           ...,\n",
       "           [-0.0107, -0.0242,  0.0101,  ...,  0.0067, -0.0214, -0.0218],\n",
       "           [-0.0029, -0.0114, -0.0095,  ...,  0.0020, -0.0029,  0.0121],\n",
       "           [ 0.0212,  0.0193, -0.0167,  ...,  0.0126,  0.0190,  0.0250]],\n",
       "          requires_grad=True),\n",
       "   Parameter containing:\n",
       "   tensor([0., 0., 0.,  ..., 0., 0., 0.], requires_grad=True),\n",
       "   Parameter containing:\n",
       "   tensor([[-0.0178,  0.0202,  0.0014,  ...,  0.0120,  0.0060, -0.0210],\n",
       "           [-0.0082, -0.0018, -0.0303,  ..., -0.0109,  0.0006,  0.0133],\n",
       "           [ 0.0179, -0.0257, -0.0158,  ..., -0.0041, -0.0004,  0.0159],\n",
       "           ...,\n",
       "           [-0.0217, -0.0164, -0.0292,  ..., -0.0003,  0.0087, -0.0195],\n",
       "           [ 0.0262, -0.0178, -0.0117,  ..., -0.0279,  0.0099, -0.0169],\n",
       "           [ 0.0010, -0.0073, -0.0141,  ...,  0.0080,  0.0002,  0.0245]],\n",
       "          requires_grad=True),\n",
       "   Parameter containing:\n",
       "   tensor([0., 0., 0., 0., 0., 0., 0., 0., 0., 0., 0., 0., 0., 0., 0., 0., 0., 0.,\n",
       "           0., 0., 0., 0., 0., 0., 0., 0., 0., 0., 0., 0., 0., 0., 0., 0., 0., 0.,\n",
       "           0., 0., 0., 0., 0., 0., 0., 0., 0., 0., 0., 0., 0., 0., 0., 0., 0., 0.,\n",
       "           0., 0., 0., 0., 0., 0., 0., 0., 0., 0.], requires_grad=True),\n",
       "   Parameter containing:\n",
       "   tensor([[ 0.0201, -0.0020, -0.0181,  ...,  0.0161, -0.0177,  0.0067],\n",
       "           [-0.0234, -0.0231,  0.0090,  ..., -0.0226, -0.0004,  0.0257],\n",
       "           [ 0.0006, -0.0019, -0.0215,  ...,  0.0116, -0.0077, -0.0145],\n",
       "           ...,\n",
       "           [ 0.0013,  0.0140,  0.0136,  ..., -0.0089,  0.0145, -0.0182],\n",
       "           [-0.0283,  0.0217,  0.0108,  ...,  0.0161,  0.0258,  0.0095],\n",
       "           [-0.0279, -0.0287,  0.0063,  ..., -0.0016, -0.0235,  0.0117]],\n",
       "          requires_grad=True),\n",
       "   Parameter containing:\n",
       "   tensor([0., 0., 0., 0., 0., 0., 0., 0., 0., 0., 0., 0., 0., 0., 0., 0., 0., 0.,\n",
       "           0., 0., 0., 0., 0., 0., 0., 0., 0., 0., 0., 0., 0., 0., 0., 0., 0., 0.,\n",
       "           0., 0., 0., 0., 0., 0., 0., 0., 0., 0., 0., 0., 0., 0., 0., 0., 0., 0.,\n",
       "           0., 0., 0., 0., 0., 0., 0., 0., 0., 0.], requires_grad=True),\n",
       "   Parameter containing:\n",
       "   tensor([[-0.0139,  0.0082, -0.0079,  ..., -0.0063, -0.0031, -0.0067],\n",
       "           [-0.0204, -0.0045,  0.0168,  ..., -0.0221,  0.0143,  0.0257],\n",
       "           [ 0.0285, -0.0058, -0.0129,  ...,  0.0092,  0.0018,  0.0158],\n",
       "           ...,\n",
       "           [ 0.0293, -0.0044, -0.0217,  ..., -0.0011,  0.0161,  0.0153],\n",
       "           [-0.0150,  0.0210,  0.0196,  ..., -0.0024,  0.0019,  0.0051],\n",
       "           [-0.0055,  0.0286, -0.0019,  ...,  0.0012, -0.0175, -0.0056]],\n",
       "          requires_grad=True),\n",
       "   Parameter containing:\n",
       "   tensor([0., 0., 0.,  ..., 0., 0., 0.], requires_grad=True),\n",
       "   Parameter containing:\n",
       "   tensor([[-0.0231, -0.0203, -0.0114,  ..., -0.0056, -0.0039,  0.0123],\n",
       "           [ 0.0204,  0.0015, -0.0054,  ...,  0.0218, -0.0243, -0.0208],\n",
       "           [ 0.0233, -0.0108, -0.0218,  ...,  0.0225, -0.0233,  0.0115],\n",
       "           ...,\n",
       "           [ 0.0187, -0.0208,  0.0246,  ..., -0.0213, -0.0042, -0.0148],\n",
       "           [-0.0110, -0.0028,  0.0181,  ...,  0.0230, -0.0046, -0.0126],\n",
       "           [ 0.0187,  0.0239, -0.0126,  ...,  0.0126,  0.0230, -0.0010]],\n",
       "          requires_grad=True),\n",
       "   Parameter containing:\n",
       "   tensor([0., 0., 0., 0., 0., 0., 0., 0., 0., 0., 0., 0., 0., 0., 0., 0., 0., 0.,\n",
       "           0., 0., 0., 0., 0., 0., 0., 0., 0., 0., 0., 0., 0., 0., 0., 0., 0., 0.,\n",
       "           0., 0., 0., 0., 0., 0., 0., 0., 0., 0., 0., 0., 0., 0., 0., 0., 0., 0.,\n",
       "           0., 0., 0., 0., 0., 0., 0., 0., 0., 0., 0., 0., 0., 0., 0., 0., 0., 0.,\n",
       "           0., 0., 0., 0., 0., 0., 0., 0., 0., 0., 0., 0., 0., 0., 0., 0., 0., 0.,\n",
       "           0., 0., 0., 0., 0., 0., 0., 0., 0., 0., 0., 0., 0., 0., 0., 0., 0., 0.,\n",
       "           0., 0., 0., 0., 0., 0., 0., 0., 0., 0., 0., 0., 0., 0., 0., 0., 0., 0.,\n",
       "           0., 0., 0., 0., 0., 0., 0., 0., 0., 0., 0., 0., 0., 0., 0., 0., 0., 0.,\n",
       "           0., 0., 0., 0., 0., 0., 0., 0., 0., 0., 0., 0., 0., 0., 0., 0., 0., 0.,\n",
       "           0., 0., 0., 0., 0., 0., 0., 0., 0., 0., 0., 0., 0., 0., 0., 0., 0., 0.,\n",
       "           0., 0., 0., 0., 0., 0., 0., 0., 0., 0., 0., 0., 0., 0., 0., 0., 0., 0.,\n",
       "           0., 0., 0., 0., 0., 0., 0., 0., 0., 0., 0., 0., 0., 0., 0., 0., 0., 0.,\n",
       "           0., 0., 0., 0., 0., 0., 0., 0., 0., 0., 0., 0., 0., 0., 0., 0., 0., 0.,\n",
       "           0., 0., 0., 0., 0., 0., 0., 0., 0., 0., 0., 0., 0., 0., 0., 0., 0., 0.,\n",
       "           0., 0., 0., 0., 0., 0., 0., 0., 0., 0., 0., 0., 0., 0., 0., 0., 0., 0.,\n",
       "           0., 0., 0., 0., 0., 0., 0., 0., 0., 0., 0., 0., 0., 0., 0., 0., 0., 0.,\n",
       "           0., 0., 0., 0., 0., 0., 0., 0., 0., 0., 0., 0., 0., 0., 0., 0., 0., 0.,\n",
       "           0., 0., 0., 0., 0., 0., 0., 0., 0., 0., 0., 0., 0., 0., 0., 0., 0., 0.,\n",
       "           0., 0., 0., 0., 0., 0., 0., 0., 0., 0., 0., 0., 0., 0., 0., 0., 0., 0.,\n",
       "           0., 0., 0., 0., 0., 0., 0., 0., 0., 0., 0., 0., 0., 0., 0., 0., 0., 0.,\n",
       "           0., 0., 0., 0., 0., 0., 0., 0., 0., 0., 0., 0., 0., 0., 0., 0., 0., 0.,\n",
       "           0., 0., 0., 0., 0., 0., 0., 0., 0., 0., 0., 0., 0., 0., 0., 0., 0., 0.,\n",
       "           0., 0., 0., 0., 0., 0., 0., 0., 0., 0., 0., 0., 0., 0., 0., 0., 0., 0.,\n",
       "           0., 0., 0., 0., 0., 0., 0., 0., 0., 0., 0., 0., 0., 0., 0., 0., 0., 0.,\n",
       "           0., 0., 0., 0., 0., 0., 0., 0., 0., 0., 0., 0., 0., 0., 0., 0., 0., 0.,\n",
       "           0., 0., 0., 0., 0., 0., 0., 0., 0., 0., 0., 0., 0., 0., 0., 0., 0., 0.,\n",
       "           0., 0., 0., 0., 0., 0., 0., 0., 0., 0., 0., 0., 0., 0., 0., 0., 0., 0.,\n",
       "           0., 0., 0., 0., 0., 0., 0., 0., 0., 0., 0., 0., 0., 0., 0., 0., 0., 0.,\n",
       "           0., 0., 0., 0., 0., 0., 0., 0.], requires_grad=True),\n",
       "   Parameter containing:\n",
       "   tensor([[ 0.0005,  0.0166, -0.0264,  ..., -0.0076,  0.0105, -0.0064],\n",
       "           [ 0.0282, -0.0223, -0.0013,  ...,  0.0095,  0.0238, -0.0029],\n",
       "           [-0.0167,  0.0263, -0.0015,  ..., -0.0061, -0.0243, -0.0237],\n",
       "           ...,\n",
       "           [-0.0212, -0.0271, -0.0123,  ...,  0.0185, -0.0147,  0.0107],\n",
       "           [-0.0240,  0.0230,  0.0028,  ..., -0.0152,  0.0210,  0.0079],\n",
       "           [ 0.0195,  0.0079,  0.0207,  ..., -0.0074, -0.0155,  0.0034]],\n",
       "          requires_grad=True),\n",
       "   Parameter containing:\n",
       "   tensor([0., 0., 0.,  ..., 0., 0., 0.], requires_grad=True),\n",
       "   Parameter containing:\n",
       "   tensor([[-0.0155,  0.0259,  0.0163,  ...,  0.0243, -0.0148, -0.0231],\n",
       "           [-0.0257,  0.0156, -0.0285,  ..., -0.0137,  0.0025, -0.0290],\n",
       "           [-0.0079,  0.0067, -0.0062,  ...,  0.0302, -0.0153, -0.0197],\n",
       "           ...,\n",
       "           [ 0.0026, -0.0114,  0.0026,  ...,  0.0031, -0.0222, -0.0248],\n",
       "           [-0.0050,  0.0046,  0.0309,  ..., -0.0281,  0.0084,  0.0258],\n",
       "           [ 0.0013,  0.0252, -0.0143,  ...,  0.0079, -0.0272,  0.0072]],\n",
       "          requires_grad=True),\n",
       "   Parameter containing:\n",
       "   tensor([0., 0., 0., 0., 0., 0., 0., 0., 0., 0., 0., 0., 0., 0., 0., 0., 0., 0.,\n",
       "           0., 0., 0., 0., 0., 0., 0., 0., 0., 0., 0., 0., 0., 0., 0., 0., 0., 0.,\n",
       "           0., 0., 0., 0., 0., 0., 0., 0., 0., 0., 0., 0., 0., 0., 0., 0., 0., 0.,\n",
       "           0., 0., 0., 0., 0., 0., 0., 0., 0., 0.], requires_grad=True),\n",
       "   Parameter containing:\n",
       "   tensor([[ 0.0133, -0.0247, -0.0097,  ..., -0.0089, -0.0136, -0.0061],\n",
       "           [ 0.0241, -0.0291,  0.0154,  ..., -0.0076, -0.0313,  0.0278],\n",
       "           [ 0.0000, -0.0113, -0.0023,  ...,  0.0275,  0.0305,  0.0068],\n",
       "           ...,\n",
       "           [ 0.0272,  0.0260, -0.0231,  ...,  0.0244,  0.0083,  0.0191],\n",
       "           [-0.0080,  0.0262, -0.0288,  ..., -0.0155,  0.0099, -0.0020],\n",
       "           [-0.0173,  0.0205,  0.0161,  ..., -0.0227,  0.0123,  0.0209]],\n",
       "          requires_grad=True),\n",
       "   Parameter containing:\n",
       "   tensor([0., 0., 0., 0., 0., 0., 0., 0., 0., 0., 0., 0., 0., 0., 0., 0., 0., 0.,\n",
       "           0., 0., 0., 0., 0., 0., 0., 0., 0., 0., 0., 0., 0., 0., 0., 0., 0., 0.,\n",
       "           0., 0., 0., 0., 0., 0., 0., 0., 0., 0., 0., 0., 0., 0., 0., 0., 0., 0.,\n",
       "           0., 0., 0., 0., 0., 0., 0., 0., 0., 0.], requires_grad=True),\n",
       "   Parameter containing:\n",
       "   tensor([[ 0.0308, -0.0315,  0.0109,  ...,  0.0102,  0.0412, -0.0199],\n",
       "           [ 0.0173,  0.0220,  0.0242,  ..., -0.0055,  0.0451, -0.0332],\n",
       "           [ 0.0212,  0.0181, -0.0190,  ...,  0.0126,  0.0423,  0.0181],\n",
       "           ...,\n",
       "           [ 0.0015,  0.0064,  0.0452,  ...,  0.0329, -0.0425, -0.0140],\n",
       "           [-0.0382,  0.0312,  0.0199,  ..., -0.0292,  0.0282,  0.0107],\n",
       "           [-0.0218, -0.0274,  0.0366,  ..., -0.0204,  0.0433,  0.0189]],\n",
       "          requires_grad=True),\n",
       "   Parameter containing:\n",
       "   tensor([0., 0., 0., 0., 0., 0., 0., 0., 0., 0., 0., 0., 0., 0., 0., 0., 0., 0.,\n",
       "           0., 0., 0., 0., 0., 0., 0., 0., 0., 0., 0., 0., 0., 0., 0., 0., 0., 0.,\n",
       "           0., 0., 0., 0., 0., 0., 0., 0., 0., 0., 0., 0., 0., 0., 0., 0., 0., 0.,\n",
       "           0., 0., 0., 0., 0., 0., 0., 0., 0., 0., 0., 0., 0., 0., 0., 0., 0., 0.,\n",
       "           0., 0., 0., 0., 0., 0., 0., 0., 0., 0., 0., 0., 0., 0., 0., 0., 0., 0.,\n",
       "           0., 0., 0., 0., 0., 0., 0., 0., 0., 0., 0., 0., 0., 0., 0., 0., 0., 0.,\n",
       "           0., 0., 0., 0., 0., 0., 0., 0., 0., 0., 0., 0., 0., 0., 0., 0., 0., 0.,\n",
       "           0., 0., 0., 0., 0., 0., 0., 0., 0., 0., 0., 0., 0., 0., 0., 0., 0., 0.,\n",
       "           0., 0., 0., 0., 0., 0., 0., 0., 0., 0., 0., 0., 0., 0., 0., 0., 0., 0.,\n",
       "           0., 0., 0., 0., 0., 0., 0., 0., 0., 0., 0., 0., 0., 0., 0., 0., 0., 0.,\n",
       "           0., 0., 0., 0., 0., 0., 0., 0., 0., 0., 0., 0., 0., 0., 0., 0., 0., 0.,\n",
       "           0., 0., 0., 0., 0., 0., 0., 0., 0., 0., 0., 0., 0., 0., 0., 0., 0., 0.,\n",
       "           0., 0., 0., 0., 0., 0., 0., 0., 0., 0., 0., 0., 0., 0., 0., 0., 0., 0.,\n",
       "           0., 0., 0., 0., 0., 0., 0., 0., 0., 0., 0., 0., 0., 0., 0., 0., 0., 0.,\n",
       "           0., 0., 0., 0., 0., 0., 0., 0., 0., 0., 0., 0., 0., 0., 0., 0., 0., 0.,\n",
       "           0., 0., 0., 0., 0., 0., 0., 0., 0., 0., 0., 0., 0., 0., 0., 0., 0., 0.,\n",
       "           0., 0., 0., 0., 0., 0., 0., 0., 0., 0., 0., 0., 0., 0., 0., 0., 0., 0.,\n",
       "           0., 0., 0., 0., 0., 0., 0., 0., 0., 0., 0., 0., 0., 0., 0., 0., 0., 0.,\n",
       "           0., 0., 0., 0., 0., 0., 0., 0., 0., 0., 0., 0., 0., 0., 0., 0., 0., 0.,\n",
       "           0., 0., 0., 0., 0., 0., 0., 0., 0., 0., 0., 0., 0., 0., 0., 0., 0., 0.,\n",
       "           0., 0., 0., 0., 0., 0., 0., 0., 0., 0., 0., 0., 0., 0., 0., 0., 0., 0.,\n",
       "           0., 0., 0., 0., 0., 0., 0., 0., 0., 0., 0., 0., 0., 0., 0., 0., 0., 0.,\n",
       "           0., 0., 0., 0., 0., 0., 0., 0., 0., 0., 0., 0., 0., 0., 0., 0., 0., 0.,\n",
       "           0., 0., 0., 0., 0., 0., 0., 0., 0., 0., 0., 0., 0., 0., 0., 0., 0., 0.,\n",
       "           0., 0., 0., 0., 0., 0., 0., 0., 0., 0., 0., 0., 0., 0., 0., 0., 0., 0.,\n",
       "           0., 0., 0., 0., 0., 0., 0., 0., 0., 0., 0., 0., 0., 0., 0., 0., 0., 0.,\n",
       "           0., 0., 0., 0., 0., 0., 0., 0., 0., 0., 0., 0., 0., 0., 0., 0., 0., 0.,\n",
       "           0., 0., 0., 0., 0., 0., 0., 0., 0., 0., 0., 0., 0., 0., 0., 0., 0., 0.,\n",
       "           0., 0., 0., 0., 0., 0., 0., 0., 0., 0., 0., 0., 0., 0., 0., 0., 0., 0.,\n",
       "           0., 0., 0., 0., 0., 0., 0., 0., 0., 0., 0., 0., 0., 0., 0., 0., 0., 0.,\n",
       "           0., 0., 0., 0., 0., 0., 0., 0., 0., 0., 0., 0., 0., 0., 0., 0., 0., 0.,\n",
       "           0., 0., 0., 0., 0., 0., 0., 0., 0., 0., 0., 0., 0., 0., 0., 0., 0., 0.,\n",
       "           0., 0., 0., 0., 0., 0., 0., 0., 0., 0., 0., 0., 0., 0., 0., 0., 0., 0.,\n",
       "           0., 0., 0., 0., 0., 0., 0., 0., 0., 0., 0., 0., 0., 0., 0., 0., 0., 0.,\n",
       "           0., 0., 0., 0., 0., 0., 0., 0., 0., 0., 0., 0., 0., 0., 0., 0., 0., 0.,\n",
       "           0., 0., 0., 0., 0., 0., 0., 0., 0., 0., 0., 0., 0., 0., 0., 0., 0., 0.,\n",
       "           0., 0., 0., 0., 0., 0., 0., 0., 0., 0., 0., 0., 0., 0., 0., 0., 0.],\n",
       "          requires_grad=True),\n",
       "   Parameter containing:\n",
       "   tensor([[ 0.0254,  0.0308, -0.0159,  ...,  0.0143,  0.0246, -0.0250],\n",
       "           [-0.0115, -0.0102, -0.0322,  ..., -0.0115,  0.0389,  0.0320],\n",
       "           [ 0.0370,  0.0290, -0.0044,  ...,  0.0152, -0.0270, -0.0389],\n",
       "           ...,\n",
       "           [ 0.0104,  0.0386,  0.0378,  ...,  0.0281, -0.0052, -0.0369],\n",
       "           [-0.0202, -0.0154,  0.0374,  ..., -0.0201, -0.0183,  0.0226],\n",
       "           [ 0.0102, -0.0356,  0.0076,  ..., -0.0304, -0.0026,  0.0002]],\n",
       "          requires_grad=True),\n",
       "   Parameter containing:\n",
       "   tensor([0., 0., 0., 0., 0., 0., 0., 0., 0., 0., 0., 0., 0., 0., 0., 0., 0., 0.,\n",
       "           0., 0., 0., 0., 0., 0., 0., 0., 0., 0., 0., 0., 0., 0., 0., 0., 0., 0.,\n",
       "           0., 0., 0., 0., 0., 0., 0., 0., 0., 0., 0., 0., 0., 0., 0., 0., 0., 0.,\n",
       "           0., 0., 0., 0., 0., 0., 0., 0., 0., 0., 0., 0., 0., 0., 0., 0., 0., 0.,\n",
       "           0., 0., 0., 0., 0., 0., 0., 0., 0., 0., 0., 0., 0., 0., 0., 0., 0., 0.,\n",
       "           0., 0., 0., 0., 0., 0., 0., 0., 0., 0., 0., 0., 0., 0., 0., 0., 0., 0.,\n",
       "           0., 0., 0., 0., 0., 0., 0., 0., 0., 0., 0., 0., 0., 0., 0., 0., 0., 0.,\n",
       "           0., 0., 0., 0., 0., 0., 0., 0., 0., 0., 0., 0., 0., 0., 0., 0., 0., 0.,\n",
       "           0., 0., 0., 0., 0., 0., 0., 0., 0., 0., 0., 0., 0., 0., 0., 0., 0., 0.,\n",
       "           0., 0., 0., 0., 0., 0., 0., 0., 0., 0., 0., 0., 0., 0., 0., 0., 0., 0.,\n",
       "           0., 0., 0., 0., 0., 0., 0., 0., 0., 0., 0., 0., 0., 0., 0., 0., 0., 0.,\n",
       "           0., 0., 0., 0., 0., 0., 0., 0., 0., 0., 0., 0., 0., 0., 0., 0., 0., 0.,\n",
       "           0., 0., 0., 0., 0., 0., 0., 0., 0., 0., 0., 0., 0., 0., 0., 0., 0., 0.,\n",
       "           0., 0., 0., 0., 0., 0., 0., 0., 0., 0., 0., 0., 0., 0., 0., 0., 0., 0.,\n",
       "           0., 0., 0., 0., 0., 0., 0., 0., 0., 0., 0., 0., 0., 0., 0., 0., 0., 0.,\n",
       "           0., 0., 0., 0., 0., 0., 0., 0., 0., 0., 0., 0., 0., 0., 0., 0., 0., 0.,\n",
       "           0., 0., 0., 0., 0., 0., 0., 0., 0., 0., 0., 0., 0., 0., 0., 0., 0., 0.,\n",
       "           0., 0., 0., 0., 0., 0.], requires_grad=True)],\n",
       "  'lr': 0.00015,\n",
       "  'betas': (0.9, 0.999),\n",
       "  'eps': 1e-08,\n",
       "  'weight_decay': 0,\n",
       "  'amsgrad': True}]"
      ]
     },
     "execution_count": 34,
     "metadata": {},
     "output_type": "execute_result"
    }
   ],
   "source": [
    "gen_model = Model(hyperparameters)\n",
    "gen_model.optimizer.param_groups\n"
   ]
  },
  {
   "cell_type": "code",
   "execution_count": 73,
   "metadata": {
    "ExecuteTime": {
     "end_time": "2020-08-18T12:52:36.604469Z",
     "start_time": "2020-08-18T12:52:36.493319Z"
    }
   },
   "outputs": [
    {
     "data": {
      "text/plain": [
       "torch.Size([5, 10])"
      ]
     },
     "execution_count": 73,
     "metadata": {},
     "output_type": "execute_result"
    }
   ],
   "source": [
    "a = torch.tensor(range(50)).float().view(5,10)\n",
    "b = torch.unsqueeze(a, 1)   # torch.Size([5, 1, 10])\n",
    "c = b.expand(-1, 5, -1)\n",
    "c.shape   # torch.Size([5, 5, 10])\n",
    "\n",
    "d = c.mean(1)   # torch.Size([5, 10])\n",
    "d.shape"
   ]
  },
  {
   "cell_type": "code",
   "execution_count": 76,
   "metadata": {
    "ExecuteTime": {
     "end_time": "2020-08-19T08:28:08.851238Z",
     "start_time": "2020-08-19T08:28:08.095020Z"
    }
   },
   "outputs": [],
   "source": [
    "from data.dataloader_vae import DATA_LOADER as dataloader\n"
   ]
  },
  {
   "cell_type": "code",
   "execution_count": 82,
   "metadata": {
    "ExecuteTime": {
     "end_time": "2020-08-19T08:33:17.956900Z",
     "start_time": "2020-08-19T08:33:17.889618Z"
    }
   },
   "outputs": [],
   "source": [
    "DATASET = 'CUB'\n",
    "auxiliary_data_source = 'attribute'\n",
    "# attr_file = 'filelists/CUB/attr_array.npy'\n",
    "d = None\n",
    "novel_file = 'features/CUB/ResNet10_protonet_aug_5way_5shot/novel_best.hdf5'\n"
   ]
  },
  {
   "cell_type": "code",
   "execution_count": 83,
   "metadata": {
    "ExecuteTime": {
     "end_time": "2020-08-19T08:33:49.286467Z",
     "start_time": "2020-08-19T08:33:49.005718Z"
    }
   },
   "outputs": [],
   "source": [
    "test_set = dataloader('CUB', novel_file, d, 20)\n"
   ]
  },
  {
   "cell_type": "code",
   "execution_count": null,
   "metadata": {},
   "outputs": [],
   "source": []
  }
 ],
 "metadata": {
  "kernelspec": {
   "display_name": "torch041-gpu",
   "language": "python",
   "name": "torch041-gpu"
  },
  "language_info": {
   "codemirror_mode": {
    "name": "ipython",
    "version": 3
   },
   "file_extension": ".py",
   "mimetype": "text/x-python",
   "name": "python",
   "nbconvert_exporter": "python",
   "pygments_lexer": "ipython3",
   "version": "3.6.10"
  },
  "varInspector": {
   "cols": {
    "lenName": 16,
    "lenType": 16,
    "lenVar": 40
   },
   "kernels_config": {
    "python": {
     "delete_cmd_postfix": "",
     "delete_cmd_prefix": "del ",
     "library": "var_list.py",
     "varRefreshCmd": "print(var_dic_list())"
    },
    "r": {
     "delete_cmd_postfix": ") ",
     "delete_cmd_prefix": "rm(",
     "library": "var_list.r",
     "varRefreshCmd": "cat(var_dic_list()) "
    }
   },
   "oldHeight": 678,
   "position": {
    "height": "700.208px",
    "left": "1565px",
    "right": "20px",
    "top": "114.997px",
    "width": "415px"
   },
   "types_to_exclude": [
    "module",
    "function",
    "builtin_function_or_method",
    "instance",
    "_Feature"
   ],
   "varInspector_section_display": "block",
   "window_display": true
  }
 },
 "nbformat": 4,
 "nbformat_minor": 4
}
